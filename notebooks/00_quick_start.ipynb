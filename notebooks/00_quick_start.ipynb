{
  "cells": [
    {
      "cell_type": "code",
      "execution_count": null,
      "metadata": {
        "vscode": {
          "languageId": "plaintext"
        }
      },
      "outputs": [],
      "source": [
        "# Stock Forecast Lab - 빠른 시작 가이드\n",
        "\n",
        "이 노트북은 Stock Forecast Lab의 기본 사용법을 보여줍니다.\n",
        "\n",
        "## 📋 목차\n",
        "1. [환경 설정](#환경-설정)\n",
        "2. [데이터 수집](#데이터-수집)\n",
        "3. [피처 생성](#피처-생성)\n",
        "4. [전략 실행](#전략-실행)\n",
        "5. [백테스트](#백테스트)\n",
        "6. [결과 분석](#결과-분석)\n"
      ]
    },
    {
      "cell_type": "code",
      "execution_count": null,
      "metadata": {
        "vscode": {
          "languageId": "plaintext"
        }
      },
      "outputs": [],
      "source": [
        "## 환경 설정\n"
      ]
    }
  ],
  "metadata": {
    "language_info": {
      "name": "python"
    }
  },
  "nbformat": 4,
  "nbformat_minor": 2
}
